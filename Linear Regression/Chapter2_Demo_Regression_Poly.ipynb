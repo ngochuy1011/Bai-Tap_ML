{
 "cells": [
  {
   "cell_type": "markdown",
   "metadata": {},
   "source": [
    "# Chapter 2 - Demo Linear Regression"
   ]
  },
  {
   "cell_type": "code",
   "execution_count": 23,
   "metadata": {},
   "outputs": [],
   "source": [
    "import numpy as np\n",
    "import pandas as pd\n",
    "import matplotlib.pyplot as plt\n",
    "import seaborn as sns"
   ]
  },
  {
   "cell_type": "markdown",
   "metadata": {},
   "source": [
    "### Đọc dữ liệu, tiền xử lý dữ liệu"
   ]
  },
  {
   "cell_type": "code",
   "execution_count": 24,
   "metadata": {},
   "outputs": [
    {
     "data": {
      "text/html": [
       "<div>\n",
       "<style scoped>\n",
       "    .dataframe tbody tr th:only-of-type {\n",
       "        vertical-align: middle;\n",
       "    }\n",
       "\n",
       "    .dataframe tbody tr th {\n",
       "        vertical-align: top;\n",
       "    }\n",
       "\n",
       "    .dataframe thead th {\n",
       "        text-align: right;\n",
       "    }\n",
       "</style>\n",
       "<table border=\"1\" class=\"dataframe\">\n",
       "  <thead>\n",
       "    <tr style=\"text-align: right;\">\n",
       "      <th></th>\n",
       "      <th>revenue</th>\n",
       "      <th>num_competitors</th>\n",
       "      <th>median_income</th>\n",
       "      <th>num_loyalty_members</th>\n",
       "      <th>population_density</th>\n",
       "      <th>location_age</th>\n",
       "    </tr>\n",
       "  </thead>\n",
       "  <tbody>\n",
       "    <tr>\n",
       "      <th>0</th>\n",
       "      <td>42247.80</td>\n",
       "      <td>3.0</td>\n",
       "      <td>30527.57</td>\n",
       "      <td>1407.0</td>\n",
       "      <td>3302.0</td>\n",
       "      <td>12.0</td>\n",
       "    </tr>\n",
       "    <tr>\n",
       "      <th>1</th>\n",
       "      <td>38628.37</td>\n",
       "      <td>3.0</td>\n",
       "      <td>30185.49</td>\n",
       "      <td>1025.0</td>\n",
       "      <td>4422.0</td>\n",
       "      <td>11.0</td>\n",
       "    </tr>\n",
       "    <tr>\n",
       "      <th>2</th>\n",
       "      <td>39715.16</td>\n",
       "      <td>1.0</td>\n",
       "      <td>32182.24</td>\n",
       "      <td>1498.0</td>\n",
       "      <td>3260.0</td>\n",
       "      <td>12.0</td>\n",
       "    </tr>\n",
       "    <tr>\n",
       "      <th>3</th>\n",
       "      <td>35593.30</td>\n",
       "      <td>5.0</td>\n",
       "      <td>29728.65</td>\n",
       "      <td>2340.0</td>\n",
       "      <td>4325.0</td>\n",
       "      <td>10.0</td>\n",
       "    </tr>\n",
       "    <tr>\n",
       "      <th>4</th>\n",
       "      <td>35128.18</td>\n",
       "      <td>4.0</td>\n",
       "      <td>30691.17</td>\n",
       "      <td>847.0</td>\n",
       "      <td>3774.0</td>\n",
       "      <td>11.0</td>\n",
       "    </tr>\n",
       "  </tbody>\n",
       "</table>\n",
       "</div>"
      ],
      "text/plain": [
       "    revenue  num_competitors  median_income  num_loyalty_members  \\\n",
       "0  42247.80              3.0       30527.57               1407.0   \n",
       "1  38628.37              3.0       30185.49               1025.0   \n",
       "2  39715.16              1.0       32182.24               1498.0   \n",
       "3  35593.30              5.0       29728.65               2340.0   \n",
       "4  35128.18              4.0       30691.17                847.0   \n",
       "\n",
       "   population_density  location_age  \n",
       "0              3302.0          12.0  \n",
       "1              4422.0          11.0  \n",
       "2              3260.0          12.0  \n",
       "3              4325.0          10.0  \n",
       "4              3774.0          11.0  "
      ]
     },
     "execution_count": 24,
     "metadata": {},
     "output_type": "execute_result"
    }
   ],
   "source": [
    "df = pd.read_csv('location_rev.csv')\n",
    "df.head()"
   ]
  },
  {
   "cell_type": "code",
   "execution_count": 25,
   "metadata": {},
   "outputs": [
    {
     "data": {
      "text/html": [
       "<div>\n",
       "<style scoped>\n",
       "    .dataframe tbody tr th:only-of-type {\n",
       "        vertical-align: middle;\n",
       "    }\n",
       "\n",
       "    .dataframe tbody tr th {\n",
       "        vertical-align: top;\n",
       "    }\n",
       "\n",
       "    .dataframe thead th {\n",
       "        text-align: right;\n",
       "    }\n",
       "</style>\n",
       "<table border=\"1\" class=\"dataframe\">\n",
       "  <thead>\n",
       "    <tr style=\"text-align: right;\">\n",
       "      <th></th>\n",
       "      <th>revenue</th>\n",
       "      <th>num_competitors</th>\n",
       "      <th>median_income</th>\n",
       "      <th>num_loyalty_members</th>\n",
       "      <th>population_density</th>\n",
       "      <th>location_age</th>\n",
       "    </tr>\n",
       "  </thead>\n",
       "  <tbody>\n",
       "    <tr>\n",
       "      <th>count</th>\n",
       "      <td>1000.000000</td>\n",
       "      <td>1000.000000</td>\n",
       "      <td>1000.000000</td>\n",
       "      <td>1000.000000</td>\n",
       "      <td>1000.000000</td>\n",
       "      <td>1000.000000</td>\n",
       "    </tr>\n",
       "    <tr>\n",
       "      <th>mean</th>\n",
       "      <td>38433.469330</td>\n",
       "      <td>3.397000</td>\n",
       "      <td>31360.668500</td>\n",
       "      <td>1597.200000</td>\n",
       "      <td>3351.199000</td>\n",
       "      <td>11.041000</td>\n",
       "    </tr>\n",
       "    <tr>\n",
       "      <th>std</th>\n",
       "      <td>11665.825242</td>\n",
       "      <td>1.016082</td>\n",
       "      <td>3943.278358</td>\n",
       "      <td>496.874663</td>\n",
       "      <td>975.664263</td>\n",
       "      <td>3.034885</td>\n",
       "    </tr>\n",
       "    <tr>\n",
       "      <th>min</th>\n",
       "      <td>5000.000000</td>\n",
       "      <td>0.000000</td>\n",
       "      <td>20000.000000</td>\n",
       "      <td>0.000000</td>\n",
       "      <td>0.000000</td>\n",
       "      <td>0.000000</td>\n",
       "    </tr>\n",
       "    <tr>\n",
       "      <th>25%</th>\n",
       "      <td>30277.897500</td>\n",
       "      <td>3.000000</td>\n",
       "      <td>28792.592500</td>\n",
       "      <td>1253.000000</td>\n",
       "      <td>2689.250000</td>\n",
       "      <td>9.000000</td>\n",
       "    </tr>\n",
       "    <tr>\n",
       "      <th>50%</th>\n",
       "      <td>38323.095000</td>\n",
       "      <td>3.000000</td>\n",
       "      <td>31134.555000</td>\n",
       "      <td>1605.000000</td>\n",
       "      <td>3353.000000</td>\n",
       "      <td>11.000000</td>\n",
       "    </tr>\n",
       "    <tr>\n",
       "      <th>75%</th>\n",
       "      <td>45894.670000</td>\n",
       "      <td>4.000000</td>\n",
       "      <td>34050.992500</td>\n",
       "      <td>1925.250000</td>\n",
       "      <td>4017.000000</td>\n",
       "      <td>13.000000</td>\n",
       "    </tr>\n",
       "    <tr>\n",
       "      <th>max</th>\n",
       "      <td>79342.070000</td>\n",
       "      <td>7.000000</td>\n",
       "      <td>43676.900000</td>\n",
       "      <td>3280.000000</td>\n",
       "      <td>6489.000000</td>\n",
       "      <td>24.000000</td>\n",
       "    </tr>\n",
       "  </tbody>\n",
       "</table>\n",
       "</div>"
      ],
      "text/plain": [
       "            revenue  num_competitors  median_income  num_loyalty_members  \\\n",
       "count   1000.000000      1000.000000    1000.000000          1000.000000   \n",
       "mean   38433.469330         3.397000   31360.668500          1597.200000   \n",
       "std    11665.825242         1.016082    3943.278358           496.874663   \n",
       "min     5000.000000         0.000000   20000.000000             0.000000   \n",
       "25%    30277.897500         3.000000   28792.592500          1253.000000   \n",
       "50%    38323.095000         3.000000   31134.555000          1605.000000   \n",
       "75%    45894.670000         4.000000   34050.992500          1925.250000   \n",
       "max    79342.070000         7.000000   43676.900000          3280.000000   \n",
       "\n",
       "       population_density  location_age  \n",
       "count         1000.000000   1000.000000  \n",
       "mean          3351.199000     11.041000  \n",
       "std            975.664263      3.034885  \n",
       "min              0.000000      0.000000  \n",
       "25%           2689.250000      9.000000  \n",
       "50%           3353.000000     11.000000  \n",
       "75%           4017.000000     13.000000  \n",
       "max           6489.000000     24.000000  "
      ]
     },
     "execution_count": 25,
     "metadata": {},
     "output_type": "execute_result"
    }
   ],
   "source": [
    "df.describe()"
   ]
  },
  {
   "cell_type": "code",
   "execution_count": 26,
   "metadata": {},
   "outputs": [
    {
     "data": {
      "text/html": [
       "<div>\n",
       "<style scoped>\n",
       "    .dataframe tbody tr th:only-of-type {\n",
       "        vertical-align: middle;\n",
       "    }\n",
       "\n",
       "    .dataframe tbody tr th {\n",
       "        vertical-align: top;\n",
       "    }\n",
       "\n",
       "    .dataframe thead th {\n",
       "        text-align: right;\n",
       "    }\n",
       "</style>\n",
       "<table border=\"1\" class=\"dataframe\">\n",
       "  <thead>\n",
       "    <tr style=\"text-align: right;\">\n",
       "      <th></th>\n",
       "      <th>revenue</th>\n",
       "      <th>num_competitors</th>\n",
       "      <th>median_income</th>\n",
       "      <th>num_loyalty_members</th>\n",
       "      <th>population_density</th>\n",
       "      <th>location_age</th>\n",
       "    </tr>\n",
       "  </thead>\n",
       "  <tbody>\n",
       "    <tr>\n",
       "      <th>revenue</th>\n",
       "      <td>1.000000</td>\n",
       "      <td>-0.156685</td>\n",
       "      <td>0.601888</td>\n",
       "      <td>0.173432</td>\n",
       "      <td>0.311653</td>\n",
       "      <td>0.552773</td>\n",
       "    </tr>\n",
       "    <tr>\n",
       "      <th>num_competitors</th>\n",
       "      <td>-0.156685</td>\n",
       "      <td>1.000000</td>\n",
       "      <td>-0.018398</td>\n",
       "      <td>-0.027283</td>\n",
       "      <td>0.035768</td>\n",
       "      <td>0.053796</td>\n",
       "    </tr>\n",
       "    <tr>\n",
       "      <th>median_income</th>\n",
       "      <td>0.601888</td>\n",
       "      <td>-0.018398</td>\n",
       "      <td>1.000000</td>\n",
       "      <td>0.011891</td>\n",
       "      <td>-0.041697</td>\n",
       "      <td>0.045621</td>\n",
       "    </tr>\n",
       "    <tr>\n",
       "      <th>num_loyalty_members</th>\n",
       "      <td>0.173432</td>\n",
       "      <td>-0.027283</td>\n",
       "      <td>0.011891</td>\n",
       "      <td>1.000000</td>\n",
       "      <td>-0.028611</td>\n",
       "      <td>0.036016</td>\n",
       "    </tr>\n",
       "    <tr>\n",
       "      <th>population_density</th>\n",
       "      <td>0.311653</td>\n",
       "      <td>0.035768</td>\n",
       "      <td>-0.041697</td>\n",
       "      <td>-0.028611</td>\n",
       "      <td>1.000000</td>\n",
       "      <td>-0.009977</td>\n",
       "    </tr>\n",
       "    <tr>\n",
       "      <th>location_age</th>\n",
       "      <td>0.552773</td>\n",
       "      <td>0.053796</td>\n",
       "      <td>0.045621</td>\n",
       "      <td>0.036016</td>\n",
       "      <td>-0.009977</td>\n",
       "      <td>1.000000</td>\n",
       "    </tr>\n",
       "  </tbody>\n",
       "</table>\n",
       "</div>"
      ],
      "text/plain": [
       "                      revenue  num_competitors  median_income  \\\n",
       "revenue              1.000000        -0.156685       0.601888   \n",
       "num_competitors     -0.156685         1.000000      -0.018398   \n",
       "median_income        0.601888        -0.018398       1.000000   \n",
       "num_loyalty_members  0.173432        -0.027283       0.011891   \n",
       "population_density   0.311653         0.035768      -0.041697   \n",
       "location_age         0.552773         0.053796       0.045621   \n",
       "\n",
       "                     num_loyalty_members  population_density  location_age  \n",
       "revenue                         0.173432            0.311653      0.552773  \n",
       "num_competitors                -0.027283            0.035768      0.053796  \n",
       "median_income                   0.011891           -0.041697      0.045621  \n",
       "num_loyalty_members             1.000000           -0.028611      0.036016  \n",
       "population_density             -0.028611            1.000000     -0.009977  \n",
       "location_age                    0.036016           -0.009977      1.000000  "
      ]
     },
     "execution_count": 26,
     "metadata": {},
     "output_type": "execute_result"
    }
   ],
   "source": [
    "df.corr()"
   ]
  },
  {
   "cell_type": "code",
   "execution_count": 27,
   "metadata": {},
   "outputs": [
    {
     "data": {
      "image/png": "[encoded data removed]",
      "text/plain": [
       "<Figure size 432x288 with 1 Axes>"
      ]
     },
     "metadata": {
      "needs_background": "light"
     },
     "output_type": "display_data"
    }
   ],
   "source": [
    "sns.regplot(data=df, x= 'median_income', y='revenue')\n",
    "plt.show()"
   ]
  },
  {
   "cell_type": "code",
   "execution_count": 28,
   "metadata": {},
   "outputs": [
    {
     "name": "stderr",
     "output_type": "stream",
     "text": [
      "c:\\program files\\python36\\lib\\site-packages\\seaborn\\_decorators.py:43: FutureWarning: Pass the following variables as keyword args: x, y. From version 0.12, the only valid positional argument will be `data`, and passing other arguments without an explicit keyword will result in an error or misinterpretation.\n",
      "  FutureWarning\n"
     ]
    },
    {
     "data": {
      "image/png": "[encoded data removed]",
      "text/plain": [
       "<Figure size 432x288 with 1 Axes>"
      ]
     },
     "metadata": {
      "needs_background": "light"
     },
     "output_type": "display_data"
    }
   ],
   "source": [
    "sns.residplot(df.median_income, df.revenue)\n",
    "plt.show()"
   ]
  },
  {
   "cell_type": "code",
   "execution_count": 29,
   "metadata": {},
   "outputs": [],
   "source": [
    "# Chuẩn bị dữ liệu training data/ test data"
   ]
  },
  {
   "cell_type": "code",
   "execution_count": 30,
   "metadata": {},
   "outputs": [],
   "source": [
    "from sklearn.model_selection import train_test_split"
   ]
  },
  {
   "cell_type": "code",
   "execution_count": 31,
   "metadata": {},
   "outputs": [],
   "source": [
    "X1 = df[['median_income']]\n",
    "y1 = df['revenue']"
   ]
  },
  {
   "cell_type": "code",
   "execution_count": 32,
   "metadata": {},
   "outputs": [],
   "source": [
    "X1_train, X1_test, y1_train, y1_test = train_test_split(X1, y1, random_state = 42)"
   ]
  },
  {
   "cell_type": "markdown",
   "metadata": {},
   "source": [
    "# Linear Regression\n",
    "## Simple Linear Regression: Xây dựng & đánh giá model"
   ]
  },
  {
   "cell_type": "code",
   "execution_count": 33,
   "metadata": {},
   "outputs": [],
   "source": [
    "# Load module, tạo đối tượng linear regression"
   ]
  },
  {
   "cell_type": "code",
   "execution_count": 34,
   "metadata": {},
   "outputs": [],
   "source": [
    "from sklearn.linear_model import LinearRegression"
   ]
  },
  {
   "cell_type": "code",
   "execution_count": 35,
   "metadata": {},
   "outputs": [
    {
     "data": {
      "text/plain": [
       "LinearRegression()"
      ]
     },
     "execution_count": 35,
     "metadata": {},
     "output_type": "execute_result"
    }
   ],
   "source": [
    "model = LinearRegression()\n",
    "model.fit(X1_train,y1_train)"
   ]
  },
  {
   "cell_type": "code",
   "execution_count": 36,
   "metadata": {},
   "outputs": [
    {
     "name": "stdout",
     "output_type": "stream",
     "text": [
      "-17944.393212607967 1.8044776691444901\n"
     ]
    }
   ],
   "source": [
    "intercept = model.intercept_\n",
    "slope = model.coef_[0]\n",
    "print(intercept,slope)"
   ]
  },
  {
   "cell_type": "code",
   "execution_count": 37,
   "metadata": {},
   "outputs": [],
   "source": [
    "y1_pred = model.predict(X1_test)"
   ]
  },
  {
   "cell_type": "code",
   "execution_count": 38,
   "metadata": {},
   "outputs": [],
   "source": [
    "intercept = model.intercept_\n",
    "slope = model.coef_[0]"
   ]
  },
  {
   "cell_type": "code",
   "execution_count": 39,
   "metadata": {},
   "outputs": [
    {
     "name": "stdout",
     "output_type": "stream",
     "text": [
      "-17944.393212607967 1.8044776691444901\n"
     ]
    }
   ],
   "source": [
    "print(intercept, slope)"
   ]
  },
  {
   "cell_type": "code",
   "execution_count": 40,
   "metadata": {},
   "outputs": [],
   "source": [
    "# Đánh giá model"
   ]
  },
  {
   "cell_type": "code",
   "execution_count": 41,
   "metadata": {},
   "outputs": [
    {
     "data": {
      "text/plain": [
       "0.3618738533973396"
      ]
     },
     "execution_count": 41,
     "metadata": {},
     "output_type": "execute_result"
    }
   ],
   "source": [
    "# R^2 cho toàn bộ dữ liệu\n",
    "model.score(X1, y1)"
   ]
  },
  {
   "cell_type": "code",
   "execution_count": 42,
   "metadata": {},
   "outputs": [
    {
     "data": {
      "text/plain": [
       "0.37376263809946475"
      ]
     },
     "execution_count": 42,
     "metadata": {},
     "output_type": "execute_result"
    }
   ],
   "source": [
    "# R^2 khi train\n",
    "model.score(X1_train, y1_train)"
   ]
  },
  {
   "cell_type": "code",
   "execution_count": 43,
   "metadata": {},
   "outputs": [
    {
     "data": {
      "text/plain": [
       "0.3246804918433005"
      ]
     },
     "execution_count": 43,
     "metadata": {},
     "output_type": "execute_result"
    }
   ],
   "source": [
    "# R^2 khi test\n",
    "model.score(X1_test, y1_test)"
   ]
  },
  {
   "cell_type": "code",
   "execution_count": 44,
   "metadata": {},
   "outputs": [],
   "source": [
    "from sklearn.metrics import mean_squared_error, mean_absolute_error"
   ]
  },
  {
   "cell_type": "code",
   "execution_count": 45,
   "metadata": {},
   "outputs": [
    {
     "name": "stdout",
     "output_type": "stream",
     "text": [
      "90952579.47704405\n"
     ]
    }
   ],
   "source": [
    "mse = mean_squared_error(y1_pred, y1_test)\n",
    "print(mse)"
   ]
  },
  {
   "cell_type": "code",
   "execution_count": 46,
   "metadata": {
    "scrolled": true
   },
   "outputs": [
    {
     "name": "stdout",
     "output_type": "stream",
     "text": [
      "7751.936386800821\n"
     ]
    }
   ],
   "source": [
    "mae = mean_absolute_error(y1_pred, y1_test)\n",
    "print(mae)"
   ]
  },
  {
   "cell_type": "markdown",
   "metadata": {},
   "source": [
    "- Đặt giới hạn trục x và y là 10.000 để chúng ta có được cái nhìn rõ hơn về vị trí của hầu hết các điểm dữ liệu. \n",
    "- Thêm line có độ dốc 1 đóng vai trò là tham chiếu. Nếu tất cả các điểm nằm trên line này, điều đó có nghĩa là có một mối quan hệ hoàn hảo giữa thực tế  và dự đoán."
   ]
  },
  {
   "cell_type": "code",
   "execution_count": 47,
   "metadata": {},
   "outputs": [
    {
     "data": {
      "image/png": "[encoded data removed]",
      "text/plain": [
       "<Figure size 360x360 with 1 Axes>"
      ]
     },
     "metadata": {
      "needs_background": "light"
     },
     "output_type": "display_data"
    }
   ],
   "source": [
    "plt.figure(figsize=(5,5))\n",
    "plt.scatter(model.predict(X1_test),y1_test)\n",
    "plt.xlabel('Model Predictions')\n",
    "plt.ylabel('True Value')\n",
    "plt.plot([0, 100000], [0, 100000], '-', color = 'r')\n",
    "plt.show()"
   ]
  },
  {
   "cell_type": "markdown",
   "metadata": {},
   "source": [
    "## Multiple Linear Regression - Xây dựng & đánh giá model"
   ]
  },
  {
   "cell_type": "code",
   "execution_count": 48,
   "metadata": {},
   "outputs": [],
   "source": [
    "from sklearn.model_selection import train_test_split"
   ]
  },
  {
   "cell_type": "code",
   "execution_count": 49,
   "metadata": {},
   "outputs": [],
   "source": [
    "X = df[['median_income',\n",
    "        'population_density',\n",
    "        'location_age'\n",
    "       ]]\n",
    "y = df['revenue']"
   ]
  },
  {
   "cell_type": "code",
   "execution_count": 50,
   "metadata": {},
   "outputs": [],
   "source": [
    "X_train, X_test, y_train, y_test = train_test_split(X, y, \n",
    "                                                    random_state = 1)"
   ]
  },
  {
   "cell_type": "code",
   "execution_count": 51,
   "metadata": {},
   "outputs": [],
   "source": [
    "from sklearn.linear_model import LinearRegression"
   ]
  },
  {
   "cell_type": "code",
   "execution_count": 52,
   "metadata": {},
   "outputs": [
    {
     "data": {
      "text/plain": [
       "LinearRegression()"
      ]
     },
     "execution_count": 52,
     "metadata": {},
     "output_type": "execute_result"
    }
   ],
   "source": [
    "model = LinearRegression()\n",
    "model.fit(X_train,y_train)"
   ]
  },
  {
   "cell_type": "code",
   "execution_count": 53,
   "metadata": {},
   "outputs": [
    {
     "name": "stdout",
     "output_type": "stream",
     "text": [
      "-52007.759174315586\n",
      "[1.72599278e+00 4.12919678e+00 2.05221843e+03]\n"
     ]
    }
   ],
   "source": [
    "print(model.intercept_)\n",
    "print(model.coef_)"
   ]
  },
  {
   "cell_type": "code",
   "execution_count": 54,
   "metadata": {},
   "outputs": [],
   "source": [
    "y_pred = model.predict(X_test)"
   ]
  },
  {
   "cell_type": "code",
   "execution_count": 55,
   "metadata": {},
   "outputs": [],
   "source": [
    "# Đánh giá model"
   ]
  },
  {
   "cell_type": "code",
   "execution_count": 56,
   "metadata": {},
   "outputs": [
    {
     "data": {
      "text/plain": [
       "0.7549353996442647"
      ]
     },
     "execution_count": 56,
     "metadata": {},
     "output_type": "execute_result"
    }
   ],
   "source": [
    "model.score(X, y)"
   ]
  },
  {
   "cell_type": "code",
   "execution_count": 57,
   "metadata": {},
   "outputs": [
    {
     "data": {
      "text/plain": [
       "0.7481587269103243"
      ]
     },
     "execution_count": 57,
     "metadata": {},
     "output_type": "execute_result"
    }
   ],
   "source": [
    "model.score(X_train, y_train)"
   ]
  },
  {
   "cell_type": "code",
   "execution_count": 58,
   "metadata": {},
   "outputs": [
    {
     "data": {
      "text/plain": [
       "0.7752549140633264"
      ]
     },
     "execution_count": 58,
     "metadata": {},
     "output_type": "execute_result"
    }
   ],
   "source": [
    "model.score(X_test, y_test)"
   ]
  },
  {
   "cell_type": "code",
   "execution_count": 59,
   "metadata": {},
   "outputs": [
    {
     "name": "stdout",
     "output_type": "stream",
     "text": [
      "30019154.8063992\n"
     ]
    }
   ],
   "source": [
    "mse = mean_squared_error(y_pred, y_test)\n",
    "print(mse)"
   ]
  },
  {
   "cell_type": "code",
   "execution_count": 60,
   "metadata": {},
   "outputs": [
    {
     "name": "stdout",
     "output_type": "stream",
     "text": [
      "4417.183344512152\n"
     ]
    }
   ],
   "source": [
    "mae = mean_absolute_error(y_pred, y_test)\n",
    "print(mae)"
   ]
  },
  {
   "cell_type": "code",
   "execution_count": 61,
   "metadata": {
    "scrolled": true
   },
   "outputs": [
    {
     "data": {
      "image/png": "[encoded data removed]",
      "text/plain": [
       "<Figure size 360x360 with 1 Axes>"
      ]
     },
     "metadata": {
      "needs_background": "light"
     },
     "output_type": "display_data"
    }
   ],
   "source": [
    "plt.figure(figsize=(5,5))\n",
    "plt.scatter(model.predict(X_test),y_test)\n",
    "plt.xlabel('Model Predictions')\n",
    "plt.ylabel('True Value')\n",
    "plt.plot([0, 100000], [0, 100000], '-', color = 'r')\n",
    "plt.show()"
   ]
  },
  {
   "cell_type": "code",
   "execution_count": 62,
   "metadata": {
    "scrolled": true
   },
   "outputs": [
    {
     "name": "stderr",
     "output_type": "stream",
     "text": [
      "c:\\program files\\python36\\lib\\site-packages\\seaborn\\distributions.py:2557: FutureWarning: `distplot` is a deprecated function and will be removed in a future version. Please adapt your code to use either `displot` (a figure-level function with similar flexibility) or `kdeplot` (an axes-level function for kernel density plots).\n",
      "  warnings.warn(msg, FutureWarning)\n",
      "c:\\program files\\python36\\lib\\site-packages\\seaborn\\distributions.py:2557: FutureWarning: `distplot` is a deprecated function and will be removed in a future version. Please adapt your code to use either `displot` (a figure-level function with similar flexibility) or `kdeplot` (an axes-level function for kernel density plots).\n",
      "  warnings.warn(msg, FutureWarning)\n",
      "c:\\program files\\python36\\lib\\site-packages\\seaborn\\distributions.py:2557: FutureWarning: `distplot` is a deprecated function and will be removed in a future version. Please adapt your code to use either `displot` (a figure-level function with similar flexibility) or `kdeplot` (an axes-level function for kernel density plots).\n",
      "  warnings.warn(msg, FutureWarning)\n",
      "c:\\program files\\python36\\lib\\site-packages\\seaborn\\distributions.py:2557: FutureWarning: `distplot` is a deprecated function and will be removed in a future version. Please adapt your code to use either `displot` (a figure-level function with similar flexibility) or `kdeplot` (an axes-level function for kernel density plots).\n",
      "  warnings.warn(msg, FutureWarning)\n"
     ]
    },
    {
     "data": {
      "image/png": "[encoded data removed]",
      "text/plain": [
       "<Figure size 1008x432 with 2 Axes>"
      ]
     },
     "metadata": {
      "needs_background": "light"
     },
     "output_type": "display_data"
    }
   ],
   "source": [
    "plt.figure(figsize=(14,6))\n",
    "plt.subplot(1,2,1)\n",
    "ax1 = sns.distplot(y_train, hist=False, color=\"r\", \n",
    "                   label=\"Actual Train Values\")\n",
    "sns.distplot(model.predict(X_train), hist=False, color=\"b\", \n",
    "             label=\"Predicted Train Values\", ax=ax1)\n",
    "\n",
    "plt.subplot(1,2,2)\n",
    "ax2 = sns.distplot(y_test, hist=False, color=\"r\", \n",
    "                   label=\"Actual Test Values\")\n",
    "sns.distplot(model.predict(X_test), hist=False, color=\"b\", \n",
    "             label=\"Predicted Test Values\" , ax=ax2)\n",
    "\n",
    "plt.show()"
   ]
  },
  {
   "cell_type": "code",
   "execution_count": 65,
   "metadata": {},
   "outputs": [],
   "source": [
    "X_new = pd.DataFrame({\n",
    "    'median_income': [30000],\n",
    "    'population_density': [2000],\n",
    "    'location_age': [10]\n",
    "})"
   ]
  },
  {
   "cell_type": "code",
   "execution_count": 66,
   "metadata": {},
   "outputs": [
    {
     "name": "stdout",
     "output_type": "stream",
     "text": [
      "[28552.60212207]\n"
     ]
    }
   ],
   "source": [
    "y_new = model.predict(X_new)\n",
    "print(y_new)"
   ]
  },
  {
   "cell_type": "code",
   "execution_count": 67,
   "metadata": {},
   "outputs": [],
   "source": [
    "from scipy.stats.stats import pearsonr"
   ]
  },
  {
   "cell_type": "code",
   "execution_count": 68,
   "metadata": {},
   "outputs": [
    {
     "data": {
      "text/plain": [
       "(0.8827946452027519, 2.4153320539659367e-83)"
      ]
     },
     "execution_count": 68,
     "metadata": {},
     "output_type": "execute_result"
    }
   ],
   "source": [
    "pearsonr(model.predict(X_test),y_test)"
   ]
  },
  {
   "cell_type": "markdown",
   "metadata": {},
   "source": [
    "### Lựa chọn thuộc tính "
   ]
  },
  {
   "cell_type": "markdown",
   "metadata": {},
   "source": [
    "#### Sử dụng Selection K Best"
   ]
  },
  {
   "cell_type": "code",
   "execution_count": 69,
   "metadata": {},
   "outputs": [],
   "source": [
    "from sklearn.feature_selection import SelectKBest\n",
    "from sklearn.feature_selection import f_regression"
   ]
  },
  {
   "cell_type": "code",
   "execution_count": 70,
   "metadata": {},
   "outputs": [],
   "source": [
    "# Apply SelectKBest class to extract all best features\n",
    "bestfeatures = SelectKBest(score_func=f_regression, k='all')\n",
    "fit = bestfeatures.fit(X,y)\n",
    "\n",
    "dfscores = pd.DataFrame(fit.scores_)\n",
    "dfcolumns = pd.DataFrame(X.columns)"
   ]
  },
  {
   "cell_type": "code",
   "execution_count": 71,
   "metadata": {},
   "outputs": [
    {
     "name": "stdout",
     "output_type": "stream",
     "text": [
      "                Specs       Score\n",
      "0       median_income  566.922357\n",
      "2        location_age  439.125397\n",
      "1  population_density  107.360798\n"
     ]
    }
   ],
   "source": [
    "# Concat two dataframes for better visualization \n",
    "featureScores = pd.concat([dfcolumns,dfscores],axis=1)\n",
    "featureScores.columns = ['Specs','Score']  #naming the dataframe columns\n",
    "# Sorting in descending order \n",
    "featureScores.sort_values(\"Score\", ascending = False, inplace = True)\n",
    "print(featureScores)  "
   ]
  },
  {
   "cell_type": "code",
   "execution_count": 72,
   "metadata": {},
   "outputs": [],
   "source": [
    "# Correlation Matrix with Heatmap\n",
    "corrmat = df.corr()"
   ]
  },
  {
   "cell_type": "code",
   "execution_count": 73,
   "metadata": {
    "scrolled": true
   },
   "outputs": [
    {
     "data": {
      "text/html": [
       "<div>\n",
       "<style scoped>\n",
       "    .dataframe tbody tr th:only-of-type {\n",
       "        vertical-align: middle;\n",
       "    }\n",
       "\n",
       "    .dataframe tbody tr th {\n",
       "        vertical-align: top;\n",
       "    }\n",
       "\n",
       "    .dataframe thead th {\n",
       "        text-align: right;\n",
       "    }\n",
       "</style>\n",
       "<table border=\"1\" class=\"dataframe\">\n",
       "  <thead>\n",
       "    <tr style=\"text-align: right;\">\n",
       "      <th></th>\n",
       "      <th>revenue</th>\n",
       "      <th>num_competitors</th>\n",
       "      <th>median_income</th>\n",
       "      <th>num_loyalty_members</th>\n",
       "      <th>population_density</th>\n",
       "      <th>location_age</th>\n",
       "    </tr>\n",
       "  </thead>\n",
       "  <tbody>\n",
       "    <tr>\n",
       "      <th>revenue</th>\n",
       "      <td>1.000000</td>\n",
       "      <td>-0.156685</td>\n",
       "      <td>0.601888</td>\n",
       "      <td>0.173432</td>\n",
       "      <td>0.311653</td>\n",
       "      <td>0.552773</td>\n",
       "    </tr>\n",
       "    <tr>\n",
       "      <th>num_competitors</th>\n",
       "      <td>-0.156685</td>\n",
       "      <td>1.000000</td>\n",
       "      <td>-0.018398</td>\n",
       "      <td>-0.027283</td>\n",
       "      <td>0.035768</td>\n",
       "      <td>0.053796</td>\n",
       "    </tr>\n",
       "    <tr>\n",
       "      <th>median_income</th>\n",
       "      <td>0.601888</td>\n",
       "      <td>-0.018398</td>\n",
       "      <td>1.000000</td>\n",
       "      <td>0.011891</td>\n",
       "      <td>-0.041697</td>\n",
       "      <td>0.045621</td>\n",
       "    </tr>\n",
       "    <tr>\n",
       "      <th>num_loyalty_members</th>\n",
       "      <td>0.173432</td>\n",
       "      <td>-0.027283</td>\n",
       "      <td>0.011891</td>\n",
       "      <td>1.000000</td>\n",
       "      <td>-0.028611</td>\n",
       "      <td>0.036016</td>\n",
       "    </tr>\n",
       "    <tr>\n",
       "      <th>population_density</th>\n",
       "      <td>0.311653</td>\n",
       "      <td>0.035768</td>\n",
       "      <td>-0.041697</td>\n",
       "      <td>-0.028611</td>\n",
       "      <td>1.000000</td>\n",
       "      <td>-0.009977</td>\n",
       "    </tr>\n",
       "    <tr>\n",
       "      <th>location_age</th>\n",
       "      <td>0.552773</td>\n",
       "      <td>0.053796</td>\n",
       "      <td>0.045621</td>\n",
       "      <td>0.036016</td>\n",
       "      <td>-0.009977</td>\n",
       "      <td>1.000000</td>\n",
       "    </tr>\n",
       "  </tbody>\n",
       "</table>\n",
       "</div>"
      ],
      "text/plain": [
       "                      revenue  num_competitors  median_income  \\\n",
       "revenue              1.000000        -0.156685       0.601888   \n",
       "num_competitors     -0.156685         1.000000      -0.018398   \n",
       "median_income        0.601888        -0.018398       1.000000   \n",
       "num_loyalty_members  0.173432        -0.027283       0.011891   \n",
       "population_density   0.311653         0.035768      -0.041697   \n",
       "location_age         0.552773         0.053796       0.045621   \n",
       "\n",
       "                     num_loyalty_members  population_density  location_age  \n",
       "revenue                         0.173432            0.311653      0.552773  \n",
       "num_competitors                -0.027283            0.035768      0.053796  \n",
       "median_income                   0.011891           -0.041697      0.045621  \n",
       "num_loyalty_members             1.000000           -0.028611      0.036016  \n",
       "population_density             -0.028611            1.000000     -0.009977  \n",
       "location_age                    0.036016           -0.009977      1.000000  "
      ]
     },
     "execution_count": 73,
     "metadata": {},
     "output_type": "execute_result"
    }
   ],
   "source": [
    "corrmat"
   ]
  },
  {
   "cell_type": "code",
   "execution_count": 74,
   "metadata": {},
   "outputs": [],
   "source": [
    "top_corr_features = corrmat.index\n"
   ]
  },
  {
   "cell_type": "code",
   "execution_count": 75,
   "metadata": {},
   "outputs": [
    {
     "data": {
      "text/plain": [
       "'3.3.4'"
      ]
     },
     "execution_count": 75,
     "metadata": {},
     "output_type": "execute_result"
    }
   ],
   "source": [
    "import matplotlib\n",
    "matplotlib.__version__"
   ]
  },
  {
   "cell_type": "code",
   "execution_count": 76,
   "metadata": {
    "scrolled": true
   },
   "outputs": [
    {
     "data": {
      "image/png": "[encoded data removed]",
      "text/plain": [
       "<Figure size 1080x504 with 2 Axes>"
      ]
     },
     "metadata": {
      "needs_background": "light"
     },
     "output_type": "display_data"
    }
   ],
   "source": [
    "plt.figure(figsize=(15,7))\n",
    "# plot heat map\n",
    "g=sns.heatmap(df[top_corr_features].corr(),cmap=\"RdYlGn\", annot=True) # annot=True: nếu muốn in cả giá trị\n",
    "plt.show()"
   ]
  },
  {
   "cell_type": "markdown",
   "metadata": {},
   "source": [
    "### Sau khi lựa chọn thuộc tính => áp dụng lại thuật toán"
   ]
  },
  {
   "cell_type": "code",
   "execution_count": 77,
   "metadata": {},
   "outputs": [],
   "source": [
    "# 3 thuộc tính có score cao nhất\n",
    "X2 = df[['median_income', 'population_density', 'location_age']]\n",
    "y2 = df['revenue']"
   ]
  },
  {
   "cell_type": "code",
   "execution_count": 78,
   "metadata": {},
   "outputs": [],
   "source": [
    "X2_train, X2_test, y2_train, y2_test = train_test_split(X2, y2, random_state = 100)"
   ]
  },
  {
   "cell_type": "code",
   "execution_count": 79,
   "metadata": {},
   "outputs": [
    {
     "data": {
      "text/plain": [
       "LinearRegression()"
      ]
     },
     "execution_count": 79,
     "metadata": {},
     "output_type": "execute_result"
    }
   ],
   "source": [
    "model2 = LinearRegression()\n",
    "model2.fit(X2_train,y2_train)"
   ]
  },
  {
   "cell_type": "code",
   "execution_count": 80,
   "metadata": {},
   "outputs": [
    {
     "data": {
      "text/plain": [
       "0.7552028859956076"
      ]
     },
     "execution_count": 80,
     "metadata": {},
     "output_type": "execute_result"
    }
   ],
   "source": [
    "model2.score(X2, y2)"
   ]
  },
  {
   "cell_type": "code",
   "execution_count": 81,
   "metadata": {},
   "outputs": [
    {
     "data": {
      "text/plain": [
       "0.7526411491478369"
      ]
     },
     "execution_count": 81,
     "metadata": {},
     "output_type": "execute_result"
    }
   ],
   "source": [
    "model2.score(X2_train, y2_train)"
   ]
  },
  {
   "cell_type": "code",
   "execution_count": 82,
   "metadata": {},
   "outputs": [
    {
     "data": {
      "text/plain": [
       "0.7632552854044201"
      ]
     },
     "execution_count": 82,
     "metadata": {},
     "output_type": "execute_result"
    }
   ],
   "source": [
    "model2.score(X2_test, y2_test)"
   ]
  },
  {
   "cell_type": "code",
   "execution_count": 83,
   "metadata": {},
   "outputs": [
    {
     "data": {
      "text/plain": [
       "30672514.389709026"
      ]
     },
     "execution_count": 83,
     "metadata": {},
     "output_type": "execute_result"
    }
   ],
   "source": [
    "mean_squared_error(model2.predict(X2_test), y2_test)"
   ]
  },
  {
   "cell_type": "code",
   "execution_count": 84,
   "metadata": {},
   "outputs": [
    {
     "data": {
      "text/plain": [
       "4358.312766077768"
      ]
     },
     "execution_count": 84,
     "metadata": {},
     "output_type": "execute_result"
    }
   ],
   "source": [
    "mean_absolute_error(model2.predict(X2_test), y2_test)"
   ]
  },
  {
   "cell_type": "markdown",
   "metadata": {},
   "source": [
    "# Polynormial Regression\n",
    "## Simple Polynormial Regression - Xây dựng & đánh giá model"
   ]
  },
  {
   "cell_type": "code",
   "execution_count": 85,
   "metadata": {},
   "outputs": [],
   "source": [
    "from sklearn.preprocessing import PolynomialFeatures"
   ]
  },
  {
   "cell_type": "code",
   "execution_count": 86,
   "metadata": {},
   "outputs": [
    {
     "data": {
      "text/plain": [
       "PolynomialFeatures()"
      ]
     },
     "execution_count": 86,
     "metadata": {},
     "output_type": "execute_result"
    }
   ],
   "source": [
    "pr_1=PolynomialFeatures(degree=2)\n",
    "pr_1"
   ]
  },
  {
   "cell_type": "code",
   "execution_count": 87,
   "metadata": {},
   "outputs": [],
   "source": [
    "X1_pr=pr_1.fit_transform(X1)\n"
   ]
  },
  {
   "cell_type": "code",
   "execution_count": 88,
   "metadata": {},
   "outputs": [
    {
     "data": {
      "text/plain": [
       "((1000, 1), (1000, 3))"
      ]
     },
     "execution_count": 88,
     "metadata": {},
     "output_type": "execute_result"
    }
   ],
   "source": [
    "X1.shape, X1_pr.shape\n"
   ]
  },
  {
   "cell_type": "code",
   "execution_count": 89,
   "metadata": {},
   "outputs": [
    {
     "data": {
      "text/html": [
       "<div>\n",
       "<style scoped>\n",
       "    .dataframe tbody tr th:only-of-type {\n",
       "        vertical-align: middle;\n",
       "    }\n",
       "\n",
       "    .dataframe tbody tr th {\n",
       "        vertical-align: top;\n",
       "    }\n",
       "\n",
       "    .dataframe thead th {\n",
       "        text-align: right;\n",
       "    }\n",
       "</style>\n",
       "<table border=\"1\" class=\"dataframe\">\n",
       "  <thead>\n",
       "    <tr style=\"text-align: right;\">\n",
       "      <th></th>\n",
       "      <th>median_income</th>\n",
       "    </tr>\n",
       "  </thead>\n",
       "  <tbody>\n",
       "    <tr>\n",
       "      <th>0</th>\n",
       "      <td>30527.57</td>\n",
       "    </tr>\n",
       "    <tr>\n",
       "      <th>1</th>\n",
       "      <td>30185.49</td>\n",
       "    </tr>\n",
       "    <tr>\n",
       "      <th>2</th>\n",
       "      <td>32182.24</td>\n",
       "    </tr>\n",
       "    <tr>\n",
       "      <th>3</th>\n",
       "      <td>29728.65</td>\n",
       "    </tr>\n",
       "    <tr>\n",
       "      <th>4</th>\n",
       "      <td>30691.17</td>\n",
       "    </tr>\n",
       "  </tbody>\n",
       "</table>\n",
       "</div>"
      ],
      "text/plain": [
       "   median_income\n",
       "0       30527.57\n",
       "1       30185.49\n",
       "2       32182.24\n",
       "3       29728.65\n",
       "4       30691.17"
      ]
     },
     "execution_count": 89,
     "metadata": {},
     "output_type": "execute_result"
    }
   ],
   "source": [
    "X1[:5]"
   ]
  },
  {
   "cell_type": "code",
   "execution_count": 90,
   "metadata": {},
   "outputs": [
    {
     "data": {
      "text/plain": [
       "array([[1.00000000e+00, 3.05275700e+04, 9.31932530e+08],\n",
       "       [1.00000000e+00, 3.01854900e+04, 9.11163807e+08],\n",
       "       [1.00000000e+00, 3.21822400e+04, 1.03569657e+09],\n",
       "       [1.00000000e+00, 2.97286500e+04, 8.83792631e+08],\n",
       "       [1.00000000e+00, 3.06911700e+04, 9.41947916e+08]])"
      ]
     },
     "execution_count": 90,
     "metadata": {},
     "output_type": "execute_result"
    }
   ],
   "source": [
    "X1_pr[:5]"
   ]
  },
  {
   "cell_type": "code",
   "execution_count": 91,
   "metadata": {},
   "outputs": [],
   "source": [
    "X1_pr_train, X1_pr_test, y1_pr_train, y1_pr_test = train_test_split(X1_pr, y1, \n",
    "                                                                    random_state = 100)"
   ]
  },
  {
   "cell_type": "code",
   "execution_count": 103,
   "metadata": {},
   "outputs": [],
   "source": [
    "lm1_t = LinearRegression()"
   ]
  },
  {
   "cell_type": "code",
   "execution_count": 104,
   "metadata": {},
   "outputs": [
    {
     "data": {
      "text/plain": [
       "LinearRegression()"
      ]
     },
     "execution_count": 104,
     "metadata": {},
     "output_type": "execute_result"
    }
   ],
   "source": [
    "lm1_t.fit(X1_pr_train, y1_pr_train)"
   ]
  },
  {
   "cell_type": "code",
   "execution_count": 105,
   "metadata": {},
   "outputs": [
    {
     "data": {
      "text/plain": [
       "0.36210890718691835"
      ]
     },
     "execution_count": 105,
     "metadata": {},
     "output_type": "execute_result"
    }
   ],
   "source": [
    "lm1_t.score(X1_pr, y1)"
   ]
  },
  {
   "cell_type": "code",
   "execution_count": 106,
   "metadata": {},
   "outputs": [
    {
     "data": {
      "text/plain": [
       "0.3416162217276143"
      ]
     },
     "execution_count": 106,
     "metadata": {},
     "output_type": "execute_result"
    }
   ],
   "source": [
    "lm1_t.score(X1_pr_train, y1_pr_train)"
   ]
  },
  {
   "cell_type": "code",
   "execution_count": 107,
   "metadata": {},
   "outputs": [
    {
     "data": {
      "text/plain": [
       "0.4272645066562639"
      ]
     },
     "execution_count": 107,
     "metadata": {},
     "output_type": "execute_result"
    }
   ],
   "source": [
    "lm1_t.score(X1_pr_test, y1_pr_test)"
   ]
  },
  {
   "cell_type": "code",
   "execution_count": 108,
   "metadata": {},
   "outputs": [
    {
     "data": {
      "text/plain": [
       "74203294.0042279"
      ]
     },
     "execution_count": 108,
     "metadata": {},
     "output_type": "execute_result"
    }
   ],
   "source": [
    "mean_squared_error(lm1_t.predict(X1_pr_test), y1_pr_test)"
   ]
  },
  {
   "cell_type": "code",
   "execution_count": 98,
   "metadata": {},
   "outputs": [
    {
     "data": {
      "text/plain": [
       "7000.057817654782"
      ]
     },
     "execution_count": 98,
     "metadata": {},
     "output_type": "execute_result"
    }
   ],
   "source": [
    "mean_absolute_error(lm1_t.predict(X1_pr_test), y1_pr_test)"
   ]
  },
  {
   "cell_type": "markdown",
   "metadata": {},
   "source": [
    "## Multiple Polynormial Regression - Xây dựng & đánh giá model"
   ]
  },
  {
   "cell_type": "code",
   "execution_count": 109,
   "metadata": {},
   "outputs": [
    {
     "data": {
      "text/plain": [
       "PolynomialFeatures()"
      ]
     },
     "execution_count": 109,
     "metadata": {},
     "output_type": "execute_result"
    }
   ],
   "source": [
    "pr2=PolynomialFeatures(degree=2)\n",
    "pr2"
   ]
  },
  {
   "cell_type": "code",
   "execution_count": 110,
   "metadata": {},
   "outputs": [],
   "source": [
    "X2_pr=pr2.fit_transform(X2)"
   ]
  },
  {
   "cell_type": "code",
   "execution_count": 111,
   "metadata": {},
   "outputs": [
    {
     "data": {
      "text/plain": [
       "((1000, 3), (1000, 10))"
      ]
     },
     "execution_count": 111,
     "metadata": {},
     "output_type": "execute_result"
    }
   ],
   "source": [
    "X2.shape, X2_pr.shape"
   ]
  },
  {
   "cell_type": "code",
   "execution_count": 112,
   "metadata": {},
   "outputs": [
    {
     "data": {
      "text/html": [
       "<div>\n",
       "<style scoped>\n",
       "    .dataframe tbody tr th:only-of-type {\n",
       "        vertical-align: middle;\n",
       "    }\n",
       "\n",
       "    .dataframe tbody tr th {\n",
       "        vertical-align: top;\n",
       "    }\n",
       "\n",
       "    .dataframe thead th {\n",
       "        text-align: right;\n",
       "    }\n",
       "</style>\n",
       "<table border=\"1\" class=\"dataframe\">\n",
       "  <thead>\n",
       "    <tr style=\"text-align: right;\">\n",
       "      <th></th>\n",
       "      <th>median_income</th>\n",
       "      <th>population_density</th>\n",
       "      <th>location_age</th>\n",
       "    </tr>\n",
       "  </thead>\n",
       "  <tbody>\n",
       "    <tr>\n",
       "      <th>0</th>\n",
       "      <td>30527.57</td>\n",
       "      <td>3302.0</td>\n",
       "      <td>12.0</td>\n",
       "    </tr>\n",
       "    <tr>\n",
       "      <th>1</th>\n",
       "      <td>30185.49</td>\n",
       "      <td>4422.0</td>\n",
       "      <td>11.0</td>\n",
       "    </tr>\n",
       "    <tr>\n",
       "      <th>2</th>\n",
       "      <td>32182.24</td>\n",
       "      <td>3260.0</td>\n",
       "      <td>12.0</td>\n",
       "    </tr>\n",
       "    <tr>\n",
       "      <th>3</th>\n",
       "      <td>29728.65</td>\n",
       "      <td>4325.0</td>\n",
       "      <td>10.0</td>\n",
       "    </tr>\n",
       "    <tr>\n",
       "      <th>4</th>\n",
       "      <td>30691.17</td>\n",
       "      <td>3774.0</td>\n",
       "      <td>11.0</td>\n",
       "    </tr>\n",
       "  </tbody>\n",
       "</table>\n",
       "</div>"
      ],
      "text/plain": [
       "   median_income  population_density  location_age\n",
       "0       30527.57              3302.0          12.0\n",
       "1       30185.49              4422.0          11.0\n",
       "2       32182.24              3260.0          12.0\n",
       "3       29728.65              4325.0          10.0\n",
       "4       30691.17              3774.0          11.0"
      ]
     },
     "execution_count": 112,
     "metadata": {},
     "output_type": "execute_result"
    }
   ],
   "source": [
    "X2[:5]"
   ]
  },
  {
   "cell_type": "code",
   "execution_count": 114,
   "metadata": {},
   "outputs": [
    {
     "data": {
      "text/plain": [
       "array([[1.00000000e+00, 3.05275700e+04, 3.30200000e+03, 1.20000000e+01,\n",
       "        9.31932530e+08, 1.00802036e+08, 3.66330840e+05, 1.09032040e+07,\n",
       "        3.96240000e+04, 1.44000000e+02],\n",
       "       [1.00000000e+00, 3.01854900e+04, 4.42200000e+03, 1.10000000e+01,\n",
       "        9.11163807e+08, 1.33480237e+08, 3.32040390e+05, 1.95540840e+07,\n",
       "        4.86420000e+04, 1.21000000e+02]])"
      ]
     },
     "execution_count": 114,
     "metadata": {},
     "output_type": "execute_result"
    }
   ],
   "source": [
    "X2_pr[:2]"
   ]
  },
  {
   "cell_type": "code",
   "execution_count": 115,
   "metadata": {},
   "outputs": [],
   "source": [
    "X2_pr_train, X2_pr_test, y2_pr_train, y2_pr_test = train_test_split(X2_pr, y2, \n",
    "                                                                    random_state = 100)"
   ]
  },
  {
   "cell_type": "code",
   "execution_count": 117,
   "metadata": {},
   "outputs": [],
   "source": [
    "lm2_t = LinearRegression()"
   ]
  },
  {
   "cell_type": "code",
   "execution_count": 118,
   "metadata": {},
   "outputs": [
    {
     "data": {
      "text/plain": [
       "LinearRegression()"
      ]
     },
     "execution_count": 118,
     "metadata": {},
     "output_type": "execute_result"
    }
   ],
   "source": [
    "lm2_t.fit(X2_pr_train, y2_pr_train)"
   ]
  },
  {
   "cell_type": "code",
   "execution_count": 119,
   "metadata": {},
   "outputs": [
    {
     "data": {
      "text/plain": [
       "0.7575929999543383"
      ]
     },
     "execution_count": 119,
     "metadata": {},
     "output_type": "execute_result"
    }
   ],
   "source": [
    "lm2_t.score(X2_pr, y2)"
   ]
  },
  {
   "cell_type": "code",
   "execution_count": 121,
   "metadata": {},
   "outputs": [
    {
     "data": {
      "text/plain": [
       "0.758092420422708"
      ]
     },
     "execution_count": 121,
     "metadata": {},
     "output_type": "execute_result"
    }
   ],
   "source": [
    "lm2_t.score(X2_pr_train, y2_pr_train)"
   ]
  },
  {
   "cell_type": "code",
   "execution_count": 122,
   "metadata": {},
   "outputs": [
    {
     "data": {
      "text/plain": [
       "0.7558605048424545"
      ]
     },
     "execution_count": 122,
     "metadata": {},
     "output_type": "execute_result"
    }
   ],
   "source": [
    "lm2_t.score(X2_pr_test, y2_pr_test)"
   ]
  },
  {
   "cell_type": "code",
   "execution_count": null,
   "metadata": {},
   "outputs": [],
   "source": [
    "mean_squared_error(lm2_t.predict(X_pr_test), y_pr_test)"
   ]
  },
  {
   "cell_type": "code",
   "execution_count": null,
   "metadata": {},
   "outputs": [],
   "source": [
    "mean_absolute_error(lm2_t.predict(X_pr_test), y_pr_test)"
   ]
  },
  {
   "cell_type": "code",
   "execution_count": null,
   "metadata": {},
   "outputs": [],
   "source": []
  }
 ],
 "metadata": {
  "kernelspec": {
   "display_name": "Python 3",
   "language": "python",
   "name": "python3"
  },
  "language_info": {
   "codemirror_mode": {
    "name": "ipython",
    "version": 3
   },
   "file_extension": ".py",
   "mimetype": "text/x-python",
   "name": "python",
   "nbconvert_exporter": "python",
   "pygments_lexer": "ipython3",
   "version": "3.6.8"
  }
 },
 "nbformat": 4,
 "nbformat_minor": 2
}
